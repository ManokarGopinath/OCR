{
  "nbformat": 4,
  "nbformat_minor": 0,
  "metadata": {
    "colab": {
      "provenance": [],
      "collapsed_sections": []
    },
    "kernelspec": {
      "name": "python3",
      "display_name": "Python 3"
    },
    "language_info": {
      "name": "python"
    }
  },
  "cells": [
    {
      "cell_type": "code",
      "source": [
        "!sudo apt install tesseract-ocr"
      ],
      "metadata": {
        "colab": {
          "base_uri": "https://localhost:8080/"
        },
        "id": "2LeK0kl3JlNy",
        "outputId": "9e0df9bc-ba40-4292-d4a8-96c3e8b61429"
      },
      "execution_count": 1,
      "outputs": [
        {
          "output_type": "stream",
          "name": "stdout",
          "text": [
            "Reading package lists... Done\n",
            "Building dependency tree       \n",
            "Reading state information... Done\n",
            "The following package was automatically installed and is no longer required:\n",
            "  libnvidia-common-460\n",
            "Use 'sudo apt autoremove' to remove it.\n",
            "The following additional packages will be installed:\n",
            "  tesseract-ocr-eng tesseract-ocr-osd\n",
            "The following NEW packages will be installed:\n",
            "  tesseract-ocr tesseract-ocr-eng tesseract-ocr-osd\n",
            "0 upgraded, 3 newly installed, 0 to remove and 20 not upgraded.\n",
            "Need to get 4,795 kB of archives.\n",
            "After this operation, 15.8 MB of additional disk space will be used.\n",
            "Get:1 http://archive.ubuntu.com/ubuntu bionic/universe amd64 tesseract-ocr-eng all 4.00~git24-0e00fe6-1.2 [1,588 kB]\n",
            "Get:2 http://archive.ubuntu.com/ubuntu bionic/universe amd64 tesseract-ocr-osd all 4.00~git24-0e00fe6-1.2 [2,989 kB]\n",
            "Get:3 http://archive.ubuntu.com/ubuntu bionic/universe amd64 tesseract-ocr amd64 4.00~git2288-10f4998a-2 [218 kB]\n",
            "Fetched 4,795 kB in 3s (1,784 kB/s)\n",
            "debconf: unable to initialize frontend: Dialog\n",
            "debconf: (No usable dialog-like program is installed, so the dialog based frontend cannot be used. at /usr/share/perl5/Debconf/FrontEnd/Dialog.pm line 76, <> line 3.)\n",
            "debconf: falling back to frontend: Readline\n",
            "debconf: unable to initialize frontend: Readline\n",
            "debconf: (This frontend requires a controlling tty.)\n",
            "debconf: falling back to frontend: Teletype\n",
            "dpkg-preconfigure: unable to re-open stdin: \n",
            "Selecting previously unselected package tesseract-ocr-eng.\n",
            "(Reading database ... 157604 files and directories currently installed.)\n",
            "Preparing to unpack .../tesseract-ocr-eng_4.00~git24-0e00fe6-1.2_all.deb ...\n",
            "Unpacking tesseract-ocr-eng (4.00~git24-0e00fe6-1.2) ...\n",
            "Selecting previously unselected package tesseract-ocr-osd.\n",
            "Preparing to unpack .../tesseract-ocr-osd_4.00~git24-0e00fe6-1.2_all.deb ...\n",
            "Unpacking tesseract-ocr-osd (4.00~git24-0e00fe6-1.2) ...\n",
            "Selecting previously unselected package tesseract-ocr.\n",
            "Preparing to unpack .../tesseract-ocr_4.00~git2288-10f4998a-2_amd64.deb ...\n",
            "Unpacking tesseract-ocr (4.00~git2288-10f4998a-2) ...\n",
            "Setting up tesseract-ocr-osd (4.00~git24-0e00fe6-1.2) ...\n",
            "Setting up tesseract-ocr-eng (4.00~git24-0e00fe6-1.2) ...\n",
            "Setting up tesseract-ocr (4.00~git2288-10f4998a-2) ...\n",
            "Processing triggers for man-db (2.8.3-2ubuntu0.1) ...\n"
          ]
        }
      ]
    },
    {
      "cell_type": "code",
      "source": [
        "!pip install pytesseract"
      ],
      "metadata": {
        "colab": {
          "base_uri": "https://localhost:8080/",
          "height": 365
        },
        "id": "WkznF8T9JmKZ",
        "outputId": "61e593f3-6d5b-4252-833f-e61e0b33e85a"
      },
      "execution_count": 2,
      "outputs": [
        {
          "output_type": "stream",
          "name": "stdout",
          "text": [
            "Looking in indexes: https://pypi.org/simple, https://us-python.pkg.dev/colab-wheels/public/simple/\n",
            "Collecting pytesseract\n",
            "  Downloading pytesseract-0.3.10-py3-none-any.whl (14 kB)\n",
            "Requirement already satisfied: packaging>=21.3 in /usr/local/lib/python3.7/dist-packages (from pytesseract) (21.3)\n",
            "Collecting Pillow>=8.0.0\n",
            "  Downloading Pillow-9.2.0-cp37-cp37m-manylinux_2_17_x86_64.manylinux2014_x86_64.whl (3.1 MB)\n",
            "\u001b[K     |████████████████████████████████| 3.1 MB 2.1 MB/s \n",
            "\u001b[?25hRequirement already satisfied: pyparsing!=3.0.5,>=2.0.2 in /usr/local/lib/python3.7/dist-packages (from packaging>=21.3->pytesseract) (3.0.9)\n",
            "Installing collected packages: Pillow, pytesseract\n",
            "  Attempting uninstall: Pillow\n",
            "    Found existing installation: Pillow 7.1.2\n",
            "    Uninstalling Pillow-7.1.2:\n",
            "      Successfully uninstalled Pillow-7.1.2\n",
            "Successfully installed Pillow-9.2.0 pytesseract-0.3.10\n"
          ]
        },
        {
          "output_type": "display_data",
          "data": {
            "application/vnd.colab-display-data+json": {
              "pip_warning": {
                "packages": [
                  "PIL"
                ]
              }
            }
          },
          "metadata": {}
        }
      ]
    },
    {
      "cell_type": "code",
      "source": [
        "!pip install opencv-python"
      ],
      "metadata": {
        "colab": {
          "base_uri": "https://localhost:8080/"
        },
        "id": "_ClrVM6bJ1IJ",
        "outputId": "e682798a-02d7-4249-d510-43c7ed74fda8"
      },
      "execution_count": 1,
      "outputs": [
        {
          "output_type": "stream",
          "name": "stdout",
          "text": [
            "Looking in indexes: https://pypi.org/simple, https://us-python.pkg.dev/colab-wheels/public/simple/\n",
            "Requirement already satisfied: opencv-python in /usr/local/lib/python3.7/dist-packages (4.6.0.66)\n",
            "Requirement already satisfied: numpy>=1.14.5 in /usr/local/lib/python3.7/dist-packages (from opencv-python) (1.21.6)\n"
          ]
        }
      ]
    },
    {
      "cell_type": "code",
      "execution_count": 36,
      "metadata": {
        "colab": {
          "base_uri": "https://localhost:8080/"
        },
        "id": "ZYCT2ttLDhni",
        "outputId": "0dcbe08b-05ff-4eae-ac73-507b04ee223b"
      },
      "outputs": [
        {
          "output_type": "stream",
          "name": "stdout",
          "text": [
            "['', '                                                                                             bhttps//mrsinvoice.com ', '                                                                                                  Lp ', '                  I                                                                              | ', '        Your Company LLC Address 123, State, My Country P 111-222-333, F 111-222-334 ', '        BILL TO: ', '        P: 111-222-333, F: 111-222-334                          m                              . ', '        dlent@ccomplent ', '                                                          Contact Phone                  101-102-103 ', '        john Doe office                                   ayment  Terms                  ash on Delivery ', '        Office Road 38 ', '        P: 111-833-222, F: 122-222-334                            Amount    Due:    $4,170 ', '        office@example.net ', '          NO  PRODUCTS  / SERVICE                                   QUANTITY  /   RATE / UNIT       AMOUNT ', '                                                                        HOURS,         PRICE ', '         1 |  tyre                                                           2           $20             $40 ', '         2 |  Steering Wheet                                                 5           $10             $50 ', '         3 |  Engine ol                                                     40           $15            $150 ', '         4 |  Brake Pad                                                     2a         $1000           $2,400 ', '                                                                                     Subtotal           $275 ', '                                                                                    Tax (10%)           $275 ', '                                                                                  Grand Total         $302.5 ', '                                            ‘THANK YOU  FOR YOUR BUSINESS ', '']\n"
          ]
        }
      ],
      "source": [
        "import cv2\n",
        "import pytesseract\n",
        "from pytesseract import Output\n",
        "import pandas as pd\n",
        "\n",
        "img = cv2.imread(\"bill.jpg\")\n",
        "gray = cv2.cvtColor(img, cv2.COLOR_BGR2GRAY)\n",
        "thresh = cv2.threshold(gray, 127, 255, cv2.THRESH_BINARY + cv2.THRESH_OTSU)[1]\n",
        "\n",
        "custom_config = r'-l eng --oem 1 --psm 6 '\n",
        "d = pytesseract.image_to_data(thresh, config=custom_config, output_type=Output.DICT)\n",
        "df = pd.DataFrame(d)\n",
        "\n",
        "df1 = df[(df.conf != '-1') & (df.text != ' ') & (df.text != '')]\n",
        "pd.set_option('display.max_rows', None)\n",
        "pd.set_option('display.max_columns', None)\n",
        "\n",
        "sorted_blocks = df1.groupby('block_num').first().sort_values('top').index.tolist()\n",
        "for block in sorted_blocks:\n",
        "    curr = df1[df1['block_num'] == block]\n",
        "    sel = curr[curr.text.str.len() > 3]\n",
        "    # sel = curr\n",
        "    char_w = (sel.width / sel.text.str.len()).mean()\n",
        "    prev_par, prev_line, prev_left = 0, 0, 0\n",
        "    text = ''\n",
        "    for ix, ln in curr.iterrows():\n",
        "        # add new line when necessary\n",
        "        if prev_par != ln['par_num']:\n",
        "            text += '\\n'\n",
        "            prev_par = ln['par_num']\n",
        "            prev_line = ln['line_num']\n",
        "            prev_left = 0\n",
        "        elif prev_line != ln['line_num']:\n",
        "            text += '\\n'\n",
        "            prev_line = ln['line_num']\n",
        "            prev_left = 0\n",
        "\n",
        "        added = 0  # num of spaces that should be added\n",
        "        if ln['left'] / char_w > prev_left + 1:\n",
        "            added = int((ln['left']) / char_w) - prev_left\n",
        "            text += ' ' * added\n",
        "        text += ln['text'] + ' '\n",
        "        prev_left += len(ln['text']) + added + 1\n",
        "    text += '\\n'\n",
        "words_list = text.split('\\n')\n",
        "    #print(text)\n",
        "print(words_list)\n"
      ]
    },
    {
      "cell_type": "code",
      "source": [
        "#words_list = text.split('\\n')\n",
        "#print(words_list)\n",
        "#final_list = []\n",
        "#for i in words_list:\n",
        "#  final_list.append(i.strip(''))\n",
        "#print(final_list)\n",
        "final_output = []\n",
        "for i in words_list:\n",
        "    if i.strip() != '':\n",
        "        final_output.append(i)\n",
        "print(final_output)"
      ],
      "metadata": {
        "colab": {
          "base_uri": "https://localhost:8080/"
        },
        "id": "yZ6tilpbWJ-B",
        "outputId": "5ac0b779-0bb4-4011-9e7f-64d71d21c2dc"
      },
      "execution_count": 38,
      "outputs": [
        {
          "output_type": "stream",
          "name": "stdout",
          "text": [
            "['                                                                                             bhttps//mrsinvoice.com ', '                                                                                                  Lp ', '                  I                                                                              | ', '        Your Company LLC Address 123, State, My Country P 111-222-333, F 111-222-334 ', '        BILL TO: ', '        P: 111-222-333, F: 111-222-334                          m                              . ', '        dlent@ccomplent ', '                                                          Contact Phone                  101-102-103 ', '        john Doe office                                   ayment  Terms                  ash on Delivery ', '        Office Road 38 ', '        P: 111-833-222, F: 122-222-334                            Amount    Due:    $4,170 ', '        office@example.net ', '          NO  PRODUCTS  / SERVICE                                   QUANTITY  /   RATE / UNIT       AMOUNT ', '                                                                        HOURS,         PRICE ', '         1 |  tyre                                                           2           $20             $40 ', '         2 |  Steering Wheet                                                 5           $10             $50 ', '         3 |  Engine ol                                                     40           $15            $150 ', '         4 |  Brake Pad                                                     2a         $1000           $2,400 ', '                                                                                     Subtotal           $275 ', '                                                                                    Tax (10%)           $275 ', '                                                                                  Grand Total         $302.5 ', '                                            ‘THANK YOU  FOR YOUR BUSINESS ']\n"
          ]
        }
      ]
    },
    {
      "cell_type": "code",
      "source": [
        "k = []\n",
        "for i in final_output:\n",
        "    j = i.replace(' ','')\n",
        "    k.append(j)\n",
        "print(k)"
      ],
      "metadata": {
        "colab": {
          "base_uri": "https://localhost:8080/"
        },
        "id": "7ztB9W8fbLpQ",
        "outputId": "c48025cf-3faf-4961-cc2b-239117ec1024"
      },
      "execution_count": 39,
      "outputs": [
        {
          "output_type": "stream",
          "name": "stdout",
          "text": [
            "['bhttps//mrsinvoice.com', 'Lp', 'I|', 'YourCompanyLLCAddress123,State,MyCountryP111-222-333,F111-222-334', 'BILLTO:', 'P:111-222-333,F:111-222-334m.', 'dlent@ccomplent', 'ContactPhone101-102-103', 'johnDoeofficeaymentTermsashonDelivery', 'OfficeRoad38', 'P:111-833-222,F:122-222-334AmountDue:$4,170', 'office@example.net', 'NOPRODUCTS/SERVICEQUANTITY/RATE/UNITAMOUNT', 'HOURS,PRICE', '1|tyre2$20$40', '2|SteeringWheet5$10$50', '3|Engineol40$15$150', '4|BrakePad2a$1000$2,400', 'Subtotal$275', 'Tax(10%)$275', 'GrandTotal$302.5', '‘THANKYOUFORYOURBUSINESS']\n"
          ]
        }
      ]
    }
  ]
}